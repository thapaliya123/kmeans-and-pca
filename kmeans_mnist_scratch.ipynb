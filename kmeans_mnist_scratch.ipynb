{
 "cells": [
  {
   "cell_type": "code",
   "execution_count": 4,
   "metadata": {},
   "outputs": [
    {
     "name": "stdout",
     "output_type": "stream",
     "text": [
      "Python: 3.8.5 (default, Jul 28 2020, 12:59:40) \n",
      "[GCC 9.3.0]\n",
      "Sklearn: 0.23.2\n",
      "Matplotlib: 3.3.2\n",
      "NumPy: 1.19.4\n"
     ]
    }
   ],
   "source": [
    "# Import\n",
    "import sys\n",
    "import sklearn\n",
    "import matplotlib\n",
    "import numpy as np\n",
    "import random\n",
    "import matplotlib.pyplot as plt\n",
    "from keras.datasets import mnist\n",
    "\n",
    "print('Python: {}'.format(sys.version))\n",
    "print('Sklearn: {}'.format(sklearn.__version__))\n",
    "print('Matplotlib: {}'.format(matplotlib.__version__))\n",
    "print('NumPy: {}'.format(np.__version__))"
   ]
  },
  {
   "cell_type": "code",
   "execution_count": 5,
   "metadata": {},
   "outputs": [
    {
     "name": "stdout",
     "output_type": "stream",
     "text": [
      "Training Data: (60000, 28, 28)\n",
      "Training Labels: (60000,)\n",
      "Testing Data: (10000, 28, 28)\n",
      "Testing Labels: (10000,)\n"
     ]
    }
   ],
   "source": [
    "(x_train, y_train), (x_test, y_test) = mnist.load_data()\n",
    "\n",
    "print('Training Data: {}'.format(x_train.shape))\n",
    "print('Training Labels: {}'.format(y_train.shape))\n",
    "\n",
    "print('Testing Data: {}'.format(x_test.shape))\n",
    "print('Testing Labels: {}'.format(y_test.shape))"
   ]
  },
  {
   "cell_type": "code",
   "execution_count": 6,
   "metadata": {},
   "outputs": [
    {
     "name": "stderr",
     "output_type": "stream",
     "text": [
      "<ipython-input-6-64cea87dc863>:12: UserWarning: Matplotlib is currently using module://ipykernel.pylab.backend_inline, which is a non-GUI backend, so cannot show the figure.\n",
      "  fig.show()\n"
     ]
    },
    {
     "data": {
      "image/png": "[encoded data removed]",
      "text/plain": [
       "<Figure size 864x864 with 9 Axes>"
      ]
     },
     "metadata": {
      "needs_background": "light"
     },
     "output_type": "display_data"
    }
   ],
   "source": [
    "# create figure with 3x3 subplots using matplotlib.pyplot\n",
    "fig, axs = plt.subplots(3, 3, figsize = (12, 12))\n",
    "plt.gray()\n",
    "\n",
    "# loop through subplots and add mnist images\n",
    "for i, ax in enumerate(axs.flat):\n",
    "    ax.matshow(x_train[i])\n",
    "    ax.axis('off')\n",
    "    ax.set_title('Number {}'.format(y_train[i]))\n",
    "    \n",
    "# display the figure\n",
    "fig.show()"
   ]
  },
  {
   "cell_type": "code",
   "execution_count": 7,
   "metadata": {},
   "outputs": [
    {
     "name": "stdout",
     "output_type": "stream",
     "text": [
      "X shape: (60000, 784)\n"
     ]
    }
   ],
   "source": [
    "# Preprocessing the image\n",
    "\n",
    "# Convert each images to one-dimensional\n",
    "X = x_train.reshape(x_train.shape[0], -1)\n",
    "Y = y_train\n",
    "\n",
    "# Normalize the data, each data in range[0-1]\n",
    "X = X.astype(float)/255.\n",
    "\n",
    "print(f\"X shape: {X.shape}\") # each row represents different digits"
   ]
  },
  {
   "cell_type": "markdown",
   "metadata": {},
   "source": [
    "## KMeans implementation"
   ]
  },
  {
   "cell_type": "code",
   "execution_count": 8,
   "metadata": {},
   "outputs": [
    {
     "data": {
      "text/plain": [
       "array([[0., 0., 0., ..., 0., 0., 0.],\n",
       "       [0., 0., 0., ..., 0., 0., 0.],\n",
       "       [0., 0., 0., ..., 0., 0., 0.],\n",
       "       ...,\n",
       "       [0., 0., 0., ..., 0., 0., 0.],\n",
       "       [0., 0., 0., ..., 0., 0., 0.],\n",
       "       [0., 0., 0., ..., 0., 0., 0.]])"
      ]
     },
     "execution_count": 8,
     "metadata": {},
     "output_type": "execute_result"
    }
   ],
   "source": [
    "# Intialize number of cluster and centroids\n",
    "k = 10\n",
    "\n",
    "# Init centroid index\n",
    "init_centroids_index = random.sample(range(0, len(X)), k)\n",
    "\n",
    "# Use init_centroids as indices and get the points of these indices\n",
    "init_centroids = [X[i] for i in init_centroids_index]\n",
    "init_centroids = np.array(init_centroids)\n",
    "init_centroids"
   ]
  },
  {
   "cell_type": "code",
   "execution_count": 9,
   "metadata": {},
   "outputs": [],
   "source": [
    "def calc_distance(x1, x2):\n",
    "    \"\"\"\n",
    "    Calculate Euclidean distances between two numpy as using vectorization.\n",
    "    \n",
    "    Arguments:\n",
    "    x1: point 1, numpy array\n",
    "    x2: point 2, numpy array\n",
    "    \n",
    "    Returns:\n",
    "    Euclidean distance between x1 and x2.\n",
    "    \"\"\"\n",
    "    return np.sum((x1-x2)**2, 1)**0.5"
   ]
  },
  {
   "cell_type": "code",
   "execution_count": 10,
   "metadata": {},
   "outputs": [],
   "source": [
    "def find_closest_centroids(X, centroids):\n",
    "    \"\"\"\n",
    "    Returns index of the closest centroids for given points\n",
    "    \n",
    "    Arguments:\n",
    "    X: datasets, 1D or muti-dimensional numpy array\n",
    "    centroids: cluster centroid, 1D or multi-dimensional numpy array\n",
    "    \n",
    "    Returns:\n",
    "    closest_centroids: 1D array indicating closest centroid index for each data point\n",
    "    \"\"\"\n",
    "    points_centroids_distances = [calc_distance(X, centroid) for centroid in centroids]\n",
    "    points_centroids_distances = np.column_stack(points_centroids_distances)\n",
    "    closest_centroids = np.argmin(points_centroids_distances, 1)\n",
    "    return closest_centroids"
   ]
  },
  {
   "cell_type": "code",
   "execution_count": 11,
   "metadata": {},
   "outputs": [],
   "source": [
    "def calc_centroids(X, clusters, number_of_cluster):\n",
    "    \"\"\"\n",
    "    Calculates new centroids for different clusters by averaging datapoints assigned to different clusters.\n",
    "    \n",
    "    Arguments:\n",
    "    X: datapoints\n",
    "    clusters: Cluster label based on centroid index for each datapoints\n",
    "    number_of_centroids: number of cluster i.e. k\n",
    "    \"\"\"\n",
    "    new_centroids = [np.mean(X[clusters == cluster_index], 0) for cluster_index in range(number_of_cluster)]\n",
    "    return new_centroids"
   ]
  },
  {
   "cell_type": "code",
   "execution_count": 12,
   "metadata": {},
   "outputs": [
    {
     "name": "stdout",
     "output_type": "stream",
     "text": [
      "Iteration:0\n",
      "Iteration:1\n",
      "Iteration:2\n",
      "Iteration:3\n",
      "Iteration:4\n",
      "Iteration:5\n",
      "Iteration:6\n",
      "Iteration:7\n",
      "Iteration:8\n",
      "Iteration:9\n",
      "Iteration:10\n",
      "Iteration:11\n",
      "Iteration:12\n",
      "Iteration:13\n",
      "Iteration:14\n",
      "Iteration:15\n",
      "Iteration:16\n",
      "Iteration:17\n",
      "Iteration:18\n",
      "Iteration:19\n",
      "Iteration:20\n",
      "Iteration:21\n",
      "Iteration:22\n",
      "Iteration:23\n",
      "Iteration:24\n",
      "Iteration:25\n",
      "Iteration:26\n",
      "Iteration:27\n",
      "Iteration:28\n",
      "Iteration:29\n",
      "Iteration:30\n",
      "Iteration:31\n",
      "Iteration:32\n",
      "Iteration:33\n",
      "Iteration:34\n",
      "Iteration:35\n",
      "Iteration:36\n",
      "Iteration:37\n",
      "Iteration:38\n",
      "Iteration:39\n",
      "Iteration:40\n",
      "Iteration:41\n",
      "Iteration:42\n",
      "Iteration:43\n",
      "Iteration:44\n",
      "Iteration:45\n",
      "Iteration:46\n",
      "Iteration:47\n",
      "Iteration:48\n",
      "Iteration:49\n",
      "Iteration:50\n",
      "Iteration:51\n",
      "Iteration:52\n",
      "Iteration:53\n",
      "Iteration:54\n",
      "Iteration:55\n",
      "Iteration:56\n",
      "Iteration:57\n",
      "Iteration:58\n",
      "Iteration:59\n",
      "Iteration:60\n",
      "Iteration:61\n",
      "Iteration:62\n",
      "Iteration:63\n",
      "Iteration:64\n",
      "Iteration:65\n",
      "Iteration:66\n",
      "Iteration:67\n",
      "Iteration:68\n",
      "Iteration:69\n",
      "Iteration:70\n",
      "Iteration:71\n",
      "Iteration:72\n",
      "Iteration:73\n",
      "Iteration:74\n",
      "Iteration:75\n",
      "Iteration:76\n",
      "Iteration:77\n",
      "Iteration:78\n",
      "Iteration:79\n",
      "Iteration:80\n",
      "Iteration:81\n",
      "Iteration:82\n",
      "Iteration:83\n",
      "Iteration:84\n",
      "Iteration:85\n",
      "Iteration:86\n",
      "Iteration:87\n",
      "Iteration:88\n",
      "Iteration:89\n",
      "Iteration:90\n",
      "Iteration:91\n",
      "Iteration:92\n",
      "Iteration:93\n",
      "Iteration:94\n",
      "Iteration:95\n",
      "Iteration:96\n",
      "Iteration:97\n",
      "Iteration:98\n",
      "Iteration:99\n"
     ]
    }
   ],
   "source": [
    "centroids = init_centroids\n",
    "for i in range(100):\n",
    "    prev_centroids = centroids\n",
    "    closest_centroids = find_closest_centroids(X, centroids)\n",
    "    centroids = calc_centroids(X, closest_centroids, k)\n",
    "    centroids = np.array(centroids)\n",
    "    \n",
    "    # Exit from loop if centroids are same for two iteration\n",
    "    print(f\"Iteration:{i}\")\n",
    "    if ((prev_centroids == centroids).all()):\n",
    "        print(f\"Centroids are same for two consecutive iteration so exiting.....\")\n",
    "        break"
   ]
  }
 ],
 "metadata": {
  "kernelspec": {
   "display_name": "Python 3.10.1 64-bit",
   "language": "python",
   "name": "python3"
  },
  "language_info": {
   "codemirror_mode": {
    "name": "ipython",
    "version": 3
   },
   "file_extension": ".py",
   "mimetype": "text/x-python",
   "name": "python",
   "nbconvert_exporter": "python",
   "pygments_lexer": "ipython3",
   "version": "3.10.1"
  },
  "vscode": {
   "interpreter": {
    "hash": "224390953ffe4ffc953d2425899b26f28a6cfac249dfac765b546800b74315c5"
   }
  }
 },
 "nbformat": 4,
 "nbformat_minor": 4
}
